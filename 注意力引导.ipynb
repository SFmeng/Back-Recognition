{
 "cells": [
  {
   "cell_type": "code",
   "execution_count": 4,
   "id": "a5a531cb-187f-4dd3-ac66-62900f582f39",
   "metadata": {
    "ExecuteTime": {
     "end_time": "2025-03-11T17:31:14.618766600Z",
     "start_time": "2025-03-11T17:31:14.597475600Z"
    }
   },
   "outputs": [],
   "source": [
    "import timm\n",
    "import torch"
   ]
  },
  {
   "cell_type": "code",
   "execution_count": 5,
   "id": "17e6958a-7d4d-426a-b55e-d4c108ffc136",
   "metadata": {
    "ExecuteTime": {
     "end_time": "2025-03-11T17:31:15.766478600Z",
     "start_time": "2025-03-11T17:31:15.335611500Z"
    }
   },
   "outputs": [],
   "source": [
    "convolutional_network = timm.create_model('resnet10t', pretrained=True)"
   ]
  },
  {
   "cell_type": "code",
   "execution_count": 6,
   "id": "0887a268-161a-45e9-aff2-374e35408a95",
   "metadata": {
    "ExecuteTime": {
     "end_time": "2025-03-11T17:31:16.565153400Z",
     "start_time": "2025-03-11T17:31:16.534965600Z"
    }
   },
   "outputs": [],
   "source": [
    "input_tensor = torch.randn(1, 3, 84, 84)"
   ]
  },
  {
   "cell_type": "code",
   "execution_count": 7,
   "id": "1414fb66-fbc8-4c57-80b2-b4a9b5f96386",
   "metadata": {
    "ExecuteTime": {
     "end_time": "2025-03-11T17:31:18.130519800Z",
     "start_time": "2025-03-11T17:31:18.111064600Z"
    }
   },
   "outputs": [
    {
     "data": {
      "text/plain": "ResNet(\n  (conv1): Sequential(\n    (0): Conv2d(3, 24, kernel_size=(3, 3), stride=(2, 2), padding=(1, 1), bias=False)\n    (1): BatchNorm2d(24, eps=1e-05, momentum=0.1, affine=True, track_running_stats=True)\n    (2): ReLU(inplace=True)\n    (3): Conv2d(24, 32, kernel_size=(3, 3), stride=(1, 1), padding=(1, 1), bias=False)\n    (4): BatchNorm2d(32, eps=1e-05, momentum=0.1, affine=True, track_running_stats=True)\n    (5): ReLU(inplace=True)\n    (6): Conv2d(32, 64, kernel_size=(3, 3), stride=(1, 1), padding=(1, 1), bias=False)\n  )\n  (bn1): BatchNorm2d(64, eps=1e-05, momentum=0.1, affine=True, track_running_stats=True)\n  (act1): ReLU(inplace=True)\n  (maxpool): MaxPool2d(kernel_size=3, stride=2, padding=1, dilation=1, ceil_mode=False)\n  (layer1): Sequential(\n    (0): BasicBlock(\n      (conv1): Conv2d(64, 64, kernel_size=(3, 3), stride=(1, 1), padding=(1, 1), bias=False)\n      (bn1): BatchNorm2d(64, eps=1e-05, momentum=0.1, affine=True, track_running_stats=True)\n      (drop_block): Identity()\n      (act1): ReLU(inplace=True)\n      (aa): Identity()\n      (conv2): Conv2d(64, 64, kernel_size=(3, 3), stride=(1, 1), padding=(1, 1), bias=False)\n      (bn2): BatchNorm2d(64, eps=1e-05, momentum=0.1, affine=True, track_running_stats=True)\n      (act2): ReLU(inplace=True)\n    )\n  )\n  (layer2): Sequential(\n    (0): BasicBlock(\n      (conv1): Conv2d(64, 128, kernel_size=(3, 3), stride=(2, 2), padding=(1, 1), bias=False)\n      (bn1): BatchNorm2d(128, eps=1e-05, momentum=0.1, affine=True, track_running_stats=True)\n      (drop_block): Identity()\n      (act1): ReLU(inplace=True)\n      (aa): Identity()\n      (conv2): Conv2d(128, 128, kernel_size=(3, 3), stride=(1, 1), padding=(1, 1), bias=False)\n      (bn2): BatchNorm2d(128, eps=1e-05, momentum=0.1, affine=True, track_running_stats=True)\n      (act2): ReLU(inplace=True)\n      (downsample): Sequential(\n        (0): AvgPool2d(kernel_size=2, stride=2, padding=0)\n        (1): Conv2d(64, 128, kernel_size=(1, 1), stride=(1, 1), bias=False)\n        (2): BatchNorm2d(128, eps=1e-05, momentum=0.1, affine=True, track_running_stats=True)\n      )\n    )\n  )\n  (layer3): Sequential(\n    (0): BasicBlock(\n      (conv1): Conv2d(128, 256, kernel_size=(3, 3), stride=(2, 2), padding=(1, 1), bias=False)\n      (bn1): BatchNorm2d(256, eps=1e-05, momentum=0.1, affine=True, track_running_stats=True)\n      (drop_block): Identity()\n      (act1): ReLU(inplace=True)\n      (aa): Identity()\n      (conv2): Conv2d(256, 256, kernel_size=(3, 3), stride=(1, 1), padding=(1, 1), bias=False)\n      (bn2): BatchNorm2d(256, eps=1e-05, momentum=0.1, affine=True, track_running_stats=True)\n      (act2): ReLU(inplace=True)\n      (downsample): Sequential(\n        (0): AvgPool2d(kernel_size=2, stride=2, padding=0)\n        (1): Conv2d(128, 256, kernel_size=(1, 1), stride=(1, 1), bias=False)\n        (2): BatchNorm2d(256, eps=1e-05, momentum=0.1, affine=True, track_running_stats=True)\n      )\n    )\n  )\n  (layer4): Sequential(\n    (0): BasicBlock(\n      (conv1): Conv2d(256, 512, kernel_size=(3, 3), stride=(2, 2), padding=(1, 1), bias=False)\n      (bn1): BatchNorm2d(512, eps=1e-05, momentum=0.1, affine=True, track_running_stats=True)\n      (drop_block): Identity()\n      (act1): ReLU(inplace=True)\n      (aa): Identity()\n      (conv2): Conv2d(512, 512, kernel_size=(3, 3), stride=(1, 1), padding=(1, 1), bias=False)\n      (bn2): BatchNorm2d(512, eps=1e-05, momentum=0.1, affine=True, track_running_stats=True)\n      (act2): ReLU(inplace=True)\n      (downsample): Sequential(\n        (0): AvgPool2d(kernel_size=2, stride=2, padding=0)\n        (1): Conv2d(256, 512, kernel_size=(1, 1), stride=(1, 1), bias=False)\n        (2): BatchNorm2d(512, eps=1e-05, momentum=0.1, affine=True, track_running_stats=True)\n      )\n    )\n  )\n  (global_pool): SelectAdaptivePool2d(pool_type=avg, flatten=Flatten(start_dim=1, end_dim=-1))\n  (fc): Linear(in_features=512, out_features=1000, bias=True)\n)"
     },
     "execution_count": 7,
     "metadata": {},
     "output_type": "execute_result"
    }
   ],
   "source": [
    "convolutional_network"
   ]
  },
  {
   "cell_type": "code",
   "execution_count": 8,
   "id": "b7d8bd14-e4bf-435a-920f-28c8844d8fe0",
   "metadata": {
    "ExecuteTime": {
     "end_time": "2025-03-11T17:31:31.788414900Z",
     "start_time": "2025-03-11T17:31:31.095263400Z"
    }
   },
   "outputs": [
    {
     "name": "stdout",
     "output_type": "stream",
     "text": [
      "layer1 特征图形状: torch.Size([1, 64, 56, 56])\n",
      "layer2 特征图形状: torch.Size([1, 128, 28, 28])\n",
      "layer3 特征图形状: torch.Size([1, 256, 14, 14])\n",
      "layer4 特征图形状: torch.Size([1, 512, 7, 7])\n"
     ]
    }
   ],
   "source": [
    "import timm\n",
    "import torch\n",
    "from torch import nn\n",
    "\n",
    "# 加载预训练模型\n",
    "convolutional_network = timm.create_model('resnet10t', pretrained=True)\n",
    "\n",
    "# 冻结所有参数\n",
    "for param in convolutional_network.parameters():\n",
    "    param.requires_grad = False\n",
    "\n",
    "# 自定义返回中间层特征图的模型\n",
    "class FeatureExtractor(nn.Module):\n",
    "    def __init__(self, model, layers):\n",
    "        super(FeatureExtractor, self).__init__()\n",
    "        self.model = model\n",
    "        self.layers = layers\n",
    "\n",
    "    def forward(self, x):\n",
    "        features = {}\n",
    "        for name, module in self.model.named_children():\n",
    "            x = module(x)\n",
    "            if name in self.layers:\n",
    "                features[name] = x\n",
    "        return features\n",
    "\n",
    "# 指定要提取的层\n",
    "layers_to_extract = ['layer1', 'layer2', 'layer3', 'layer4']\n",
    "feature_extractor = FeatureExtractor(convolutional_network, layers_to_extract)\n",
    "\n",
    "# 输入图像\n",
    "input_tensor = torch.randn(1, 3, 224, 224)\n",
    "\n",
    "# 提取特征图\n",
    "features = feature_extractor(input_tensor)\n",
    "for layer_name, feature_map in features.items():\n",
    "    print(f\"{layer_name} 特征图形状: {feature_map.shape}\")\n"
   ]
  },
  {
   "cell_type": "code",
   "execution_count": null,
   "id": "4984ad0d-304a-450a-b497-f3dcf6350dfd",
   "metadata": {},
   "outputs": [],
   "source": []
  }
 ],
 "metadata": {
  "kernelspec": {
   "display_name": "python3.10(base)",
   "language": "python",
   "name": "python3"
  },
  "language_info": {
   "codemirror_mode": {
    "name": "ipython",
    "version": 3
   },
   "file_extension": ".py",
   "mimetype": "text/x-python",
   "name": "python",
   "nbconvert_exporter": "python",
   "pygments_lexer": "ipython3",
   "version": "3.10.8"
  }
 },
 "nbformat": 4,
 "nbformat_minor": 5
}
